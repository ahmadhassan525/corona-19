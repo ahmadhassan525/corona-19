{
 "cells": [
  {
   "cell_type": "markdown",
   "metadata": {},
   "source": [
    "# Import Libraries"
   ]
  },
  {
   "cell_type": "code",
   "execution_count": 1,
   "metadata": {},
   "outputs": [],
   "source": [
    "import pandas as pd \n",
    "import seaborn as sns"
   ]
  },
  {
   "cell_type": "markdown",
   "metadata": {},
   "source": [
    "# import DataSet"
   ]
  },
  {
   "cell_type": "code",
   "execution_count": 2,
   "metadata": {},
   "outputs": [],
   "source": [
    "df = pd.read_csv('metadata.csv')"
   ]
  },
  {
   "cell_type": "markdown",
   "metadata": {},
   "source": [
    "# 10 random Sample data "
   ]
  },
  {
   "cell_type": "code",
   "execution_count": 3,
   "metadata": {},
   "outputs": [
    {
     "data": {
      "text/html": [
       "<div>\n",
       "<style scoped>\n",
       "    .dataframe tbody tr th:only-of-type {\n",
       "        vertical-align: middle;\n",
       "    }\n",
       "\n",
       "    .dataframe tbody tr th {\n",
       "        vertical-align: top;\n",
       "    }\n",
       "\n",
       "    .dataframe thead th {\n",
       "        text-align: right;\n",
       "    }\n",
       "</style>\n",
       "<table border=\"1\" class=\"dataframe\">\n",
       "  <thead>\n",
       "    <tr style=\"text-align: right;\">\n",
       "      <th></th>\n",
       "      <th>cord_uid</th>\n",
       "      <th>sha</th>\n",
       "      <th>source_x</th>\n",
       "      <th>title</th>\n",
       "      <th>doi</th>\n",
       "      <th>pmcid</th>\n",
       "      <th>pubmed_id</th>\n",
       "      <th>license</th>\n",
       "      <th>abstract</th>\n",
       "      <th>publish_time</th>\n",
       "      <th>authors</th>\n",
       "      <th>journal</th>\n",
       "      <th>Microsoft Academic Paper ID</th>\n",
       "      <th>WHO #Covidence</th>\n",
       "      <th>has_full_text</th>\n",
       "      <th>full_text_file</th>\n",
       "      <th>url</th>\n",
       "    </tr>\n",
       "  </thead>\n",
       "  <tbody>\n",
       "    <tr>\n",
       "      <td>11360</td>\n",
       "      <td>todneigr</td>\n",
       "      <td>014336e4855d194c1833ba91c8ae3b302cbeafe2</td>\n",
       "      <td>PMC</td>\n",
       "      <td>Protective effects and immunomodulation on pig...</td>\n",
       "      <td>10.1371/journal.pone.0192692</td>\n",
       "      <td>PMC5821335</td>\n",
       "      <td>29466421.0</td>\n",
       "      <td>cc-by</td>\n",
       "      <td>Rotavirus (RV), belonging to Reoviridae family...</td>\n",
       "      <td>2018-02-21</td>\n",
       "      <td>Cui, Qiankun; Fu, Qiuting; Zhao, Xinghong; Son...</td>\n",
       "      <td>PLoS One</td>\n",
       "      <td>NaN</td>\n",
       "      <td>NaN</td>\n",
       "      <td>True</td>\n",
       "      <td>comm_use_subset</td>\n",
       "      <td>https://www.ncbi.nlm.nih.gov/pmc/articles/PMC5...</td>\n",
       "    </tr>\n",
       "    <tr>\n",
       "      <td>25978</td>\n",
       "      <td>hnmmsupk</td>\n",
       "      <td>NaN</td>\n",
       "      <td>PMC</td>\n",
       "      <td>Surveillance of respiratory virus infections i...</td>\n",
       "      <td>10.1017/s0950268805005364</td>\n",
       "      <td>PMC2870437</td>\n",
       "      <td>16388686.0</td>\n",
       "      <td>unk</td>\n",
       "      <td>Both influenza and respiratory syncytial virus...</td>\n",
       "      <td>2006-01-03</td>\n",
       "      <td>KAYE, M.; SKIDMORE, S.; OSMAN, H.; WEINBREN, M...</td>\n",
       "      <td>Epidemiology and Infection</td>\n",
       "      <td>NaN</td>\n",
       "      <td>NaN</td>\n",
       "      <td>False</td>\n",
       "      <td>NaN</td>\n",
       "      <td>https://www.ncbi.nlm.nih.gov/pmc/articles/PMC2...</td>\n",
       "    </tr>\n",
       "    <tr>\n",
       "      <td>29081</td>\n",
       "      <td>gl350dva</td>\n",
       "      <td>8542760b05ed97e04ef1af0ddfea7c4b9adc8333</td>\n",
       "      <td>Elsevier</td>\n",
       "      <td>28 Cytotoxic Lymphocytes in Mucosal Effector S...</td>\n",
       "      <td>10.1016/b978-0-12-524730-6.50033-6</td>\n",
       "      <td>NaN</td>\n",
       "      <td>NaN</td>\n",
       "      <td>els-covid</td>\n",
       "      <td>NaN</td>\n",
       "      <td>1994-12-31</td>\n",
       "      <td>London, Steven D.</td>\n",
       "      <td>Handbook of Mucosal Immunology</td>\n",
       "      <td>NaN</td>\n",
       "      <td>NaN</td>\n",
       "      <td>True</td>\n",
       "      <td>custom_license</td>\n",
       "      <td>https://doi.org/10.1016/b978-0-12-524730-6.500...</td>\n",
       "    </tr>\n",
       "    <tr>\n",
       "      <td>18335</td>\n",
       "      <td>8khoqbl5</td>\n",
       "      <td>NaN</td>\n",
       "      <td>PMC</td>\n",
       "      <td>Severe Acute Respiratory Syndrome Coronavirus ...</td>\n",
       "      <td>10.1128/jvi.01012-07</td>\n",
       "      <td>PMC2045396</td>\n",
       "      <td>17596301.0</td>\n",
       "      <td>unk</td>\n",
       "      <td>The host innate immune response is an importan...</td>\n",
       "      <td>2007-06-27</td>\n",
       "      <td>Frieman, Matthew; Yount, Boyd; Heise, Mark; Ko...</td>\n",
       "      <td>Journal of Virology</td>\n",
       "      <td>NaN</td>\n",
       "      <td>NaN</td>\n",
       "      <td>False</td>\n",
       "      <td>NaN</td>\n",
       "      <td>https://jvi.asm.org/content/jvi/81/18/9812.ful...</td>\n",
       "    </tr>\n",
       "    <tr>\n",
       "      <td>12550</td>\n",
       "      <td>ion97n4b</td>\n",
       "      <td>4faaf584315206f342db3f18a118eae7ca702146</td>\n",
       "      <td>PMC</td>\n",
       "      <td>The In Ovo Delivery of CpG Oligonucleotides Pr...</td>\n",
       "      <td>10.3390/v10110635</td>\n",
       "      <td>PMC6266937</td>\n",
       "      <td>30445707.0</td>\n",
       "      <td>cc-by</td>\n",
       "      <td>The in ovo delivery of cytosine-guanosine (CpG...</td>\n",
       "      <td>2018-11-15</td>\n",
       "      <td>De Silva Senapathi, Upasama; Abdul-Cader, Moha...</td>\n",
       "      <td>Viruses</td>\n",
       "      <td>NaN</td>\n",
       "      <td>NaN</td>\n",
       "      <td>True</td>\n",
       "      <td>comm_use_subset</td>\n",
       "      <td>https://www.ncbi.nlm.nih.gov/pmc/articles/PMC6...</td>\n",
       "    </tr>\n",
       "    <tr>\n",
       "      <td>2813</td>\n",
       "      <td>gty6b7vz</td>\n",
       "      <td>153c3a86e8939de3ca0331ea95b68f8bb4a3e395</td>\n",
       "      <td>PMC</td>\n",
       "      <td>Rab1 and Ca2+ are required for the fusion of c...</td>\n",
       "      <td>NaN</td>\n",
       "      <td>PMC2120032</td>\n",
       "      <td>8163543.0</td>\n",
       "      <td>cc-by-nc-sa</td>\n",
       "      <td>Members of the rab/YPT1/SEC4 gene family of sm...</td>\n",
       "      <td>1994-04-02</td>\n",
       "      <td>NaN</td>\n",
       "      <td>J Cell Biol</td>\n",
       "      <td>NaN</td>\n",
       "      <td>NaN</td>\n",
       "      <td>True</td>\n",
       "      <td>noncomm_use_subset</td>\n",
       "      <td>https://www.ncbi.nlm.nih.gov/pmc/articles/PMC2...</td>\n",
       "    </tr>\n",
       "    <tr>\n",
       "      <td>26862</td>\n",
       "      <td>o2uo0263</td>\n",
       "      <td>NaN</td>\n",
       "      <td>Elsevier</td>\n",
       "      <td>Cumulative subject index for volumes 108–115</td>\n",
       "      <td>10.1016/0042-6822(81)90129-x</td>\n",
       "      <td>NaN</td>\n",
       "      <td>NaN</td>\n",
       "      <td>els-covid</td>\n",
       "      <td>NaN</td>\n",
       "      <td>1981-12-31</td>\n",
       "      <td>NaN</td>\n",
       "      <td>Virology</td>\n",
       "      <td>NaN</td>\n",
       "      <td>NaN</td>\n",
       "      <td>False</td>\n",
       "      <td>custom_license</td>\n",
       "      <td>https://doi.org/10.1016/0042-6822(81)90129-x</td>\n",
       "    </tr>\n",
       "    <tr>\n",
       "      <td>33762</td>\n",
       "      <td>m76vbcrw</td>\n",
       "      <td>63f675b756e21a4b0f8038679217a30f48d9f308</td>\n",
       "      <td>Elsevier</td>\n",
       "      <td>Influence of the probiotic Bacillus cereus var...</td>\n",
       "      <td>10.1016/j.vetimm.2007.07.015</td>\n",
       "      <td>NaN</td>\n",
       "      <td>17870185.0</td>\n",
       "      <td>els-covid</td>\n",
       "      <td>Abstract In a feeding trial, sows and piglets ...</td>\n",
       "      <td>2007-12-15</td>\n",
       "      <td>Scharek, L.; Altherr, B.J.; Tölke, C.; Schmidt...</td>\n",
       "      <td>Veterinary Immunology and Immunopathology</td>\n",
       "      <td>NaN</td>\n",
       "      <td>NaN</td>\n",
       "      <td>True</td>\n",
       "      <td>custom_license</td>\n",
       "      <td>https://doi.org/10.1016/j.vetimm.2007.07.015</td>\n",
       "    </tr>\n",
       "    <tr>\n",
       "      <td>45718</td>\n",
       "      <td>084o1dmp</td>\n",
       "      <td>93f37ffba38e5b6a30fcc1fad6a1cfc80e6916f6</td>\n",
       "      <td>Elsevier</td>\n",
       "      <td>Virome genomics: a tool for defining the human...</td>\n",
       "      <td>10.1016/j.mib.2013.04.006</td>\n",
       "      <td>PMC3755052</td>\n",
       "      <td>23706900.0</td>\n",
       "      <td>els-covid</td>\n",
       "      <td>High throughput, deep sequencing assays are po...</td>\n",
       "      <td>2013-08-31</td>\n",
       "      <td>Wylie, Kristine M; Weinstock, George M; Storch...</td>\n",
       "      <td>Current Opinion in Microbiology</td>\n",
       "      <td>NaN</td>\n",
       "      <td>NaN</td>\n",
       "      <td>True</td>\n",
       "      <td>custom_license</td>\n",
       "      <td>https://doi.org/10.1016/j.mib.2013.04.006</td>\n",
       "    </tr>\n",
       "    <tr>\n",
       "      <td>31931</td>\n",
       "      <td>q1nl1tu2</td>\n",
       "      <td>0ef00193253adac155755ab427cefe87e0672a58</td>\n",
       "      <td>Elsevier</td>\n",
       "      <td>Identification of nucleolus localization signa...</td>\n",
       "      <td>10.1016/s0042-6822(02)00081-8</td>\n",
       "      <td>NaN</td>\n",
       "      <td>12642096.0</td>\n",
       "      <td>els-covid</td>\n",
       "      <td>Abstract Betanodavirus greasy grouper (Epineph...</td>\n",
       "      <td>2003-02-15</td>\n",
       "      <td>Guo, Yan Xiang; Dallmann, Klara; Kwang, Jimmy</td>\n",
       "      <td>Virology</td>\n",
       "      <td>NaN</td>\n",
       "      <td>NaN</td>\n",
       "      <td>True</td>\n",
       "      <td>custom_license</td>\n",
       "      <td>https://doi.org/10.1016/s0042-6822(02)00081-8</td>\n",
       "    </tr>\n",
       "  </tbody>\n",
       "</table>\n",
       "</div>"
      ],
      "text/plain": [
       "       cord_uid                                       sha  source_x  \\\n",
       "11360  todneigr  014336e4855d194c1833ba91c8ae3b302cbeafe2       PMC   \n",
       "25978  hnmmsupk                                       NaN       PMC   \n",
       "29081  gl350dva  8542760b05ed97e04ef1af0ddfea7c4b9adc8333  Elsevier   \n",
       "18335  8khoqbl5                                       NaN       PMC   \n",
       "12550  ion97n4b  4faaf584315206f342db3f18a118eae7ca702146       PMC   \n",
       "2813   gty6b7vz  153c3a86e8939de3ca0331ea95b68f8bb4a3e395       PMC   \n",
       "26862  o2uo0263                                       NaN  Elsevier   \n",
       "33762  m76vbcrw  63f675b756e21a4b0f8038679217a30f48d9f308  Elsevier   \n",
       "45718  084o1dmp  93f37ffba38e5b6a30fcc1fad6a1cfc80e6916f6  Elsevier   \n",
       "31931  q1nl1tu2  0ef00193253adac155755ab427cefe87e0672a58  Elsevier   \n",
       "\n",
       "                                                   title  \\\n",
       "11360  Protective effects and immunomodulation on pig...   \n",
       "25978  Surveillance of respiratory virus infections i...   \n",
       "29081  28 Cytotoxic Lymphocytes in Mucosal Effector S...   \n",
       "18335  Severe Acute Respiratory Syndrome Coronavirus ...   \n",
       "12550  The In Ovo Delivery of CpG Oligonucleotides Pr...   \n",
       "2813   Rab1 and Ca2+ are required for the fusion of c...   \n",
       "26862       Cumulative subject index for volumes 108–115   \n",
       "33762  Influence of the probiotic Bacillus cereus var...   \n",
       "45718  Virome genomics: a tool for defining the human...   \n",
       "31931  Identification of nucleolus localization signa...   \n",
       "\n",
       "                                      doi       pmcid   pubmed_id  \\\n",
       "11360        10.1371/journal.pone.0192692  PMC5821335  29466421.0   \n",
       "25978           10.1017/s0950268805005364  PMC2870437  16388686.0   \n",
       "29081  10.1016/b978-0-12-524730-6.50033-6         NaN         NaN   \n",
       "18335                10.1128/jvi.01012-07  PMC2045396  17596301.0   \n",
       "12550                   10.3390/v10110635  PMC6266937  30445707.0   \n",
       "2813                                  NaN  PMC2120032   8163543.0   \n",
       "26862        10.1016/0042-6822(81)90129-x         NaN         NaN   \n",
       "33762        10.1016/j.vetimm.2007.07.015         NaN  17870185.0   \n",
       "45718           10.1016/j.mib.2013.04.006  PMC3755052  23706900.0   \n",
       "31931       10.1016/s0042-6822(02)00081-8         NaN  12642096.0   \n",
       "\n",
       "           license                                           abstract  \\\n",
       "11360        cc-by  Rotavirus (RV), belonging to Reoviridae family...   \n",
       "25978          unk  Both influenza and respiratory syncytial virus...   \n",
       "29081    els-covid                                                NaN   \n",
       "18335          unk  The host innate immune response is an importan...   \n",
       "12550        cc-by  The in ovo delivery of cytosine-guanosine (CpG...   \n",
       "2813   cc-by-nc-sa  Members of the rab/YPT1/SEC4 gene family of sm...   \n",
       "26862    els-covid                                                NaN   \n",
       "33762    els-covid  Abstract In a feeding trial, sows and piglets ...   \n",
       "45718    els-covid  High throughput, deep sequencing assays are po...   \n",
       "31931    els-covid  Abstract Betanodavirus greasy grouper (Epineph...   \n",
       "\n",
       "      publish_time                                            authors  \\\n",
       "11360   2018-02-21  Cui, Qiankun; Fu, Qiuting; Zhao, Xinghong; Son...   \n",
       "25978   2006-01-03  KAYE, M.; SKIDMORE, S.; OSMAN, H.; WEINBREN, M...   \n",
       "29081   1994-12-31                                  London, Steven D.   \n",
       "18335   2007-06-27  Frieman, Matthew; Yount, Boyd; Heise, Mark; Ko...   \n",
       "12550   2018-11-15  De Silva Senapathi, Upasama; Abdul-Cader, Moha...   \n",
       "2813    1994-04-02                                                NaN   \n",
       "26862   1981-12-31                                                NaN   \n",
       "33762   2007-12-15  Scharek, L.; Altherr, B.J.; Tölke, C.; Schmidt...   \n",
       "45718   2013-08-31  Wylie, Kristine M; Weinstock, George M; Storch...   \n",
       "31931   2003-02-15      Guo, Yan Xiang; Dallmann, Klara; Kwang, Jimmy   \n",
       "\n",
       "                                         journal  Microsoft Academic Paper ID  \\\n",
       "11360                                   PLoS One                          NaN   \n",
       "25978                 Epidemiology and Infection                          NaN   \n",
       "29081             Handbook of Mucosal Immunology                          NaN   \n",
       "18335                        Journal of Virology                          NaN   \n",
       "12550                                    Viruses                          NaN   \n",
       "2813                                 J Cell Biol                          NaN   \n",
       "26862                                   Virology                          NaN   \n",
       "33762  Veterinary Immunology and Immunopathology                          NaN   \n",
       "45718            Current Opinion in Microbiology                          NaN   \n",
       "31931                                   Virology                          NaN   \n",
       "\n",
       "      WHO #Covidence  has_full_text      full_text_file  \\\n",
       "11360            NaN           True     comm_use_subset   \n",
       "25978            NaN          False                 NaN   \n",
       "29081            NaN           True      custom_license   \n",
       "18335            NaN          False                 NaN   \n",
       "12550            NaN           True     comm_use_subset   \n",
       "2813             NaN           True  noncomm_use_subset   \n",
       "26862            NaN          False      custom_license   \n",
       "33762            NaN           True      custom_license   \n",
       "45718            NaN           True      custom_license   \n",
       "31931            NaN           True      custom_license   \n",
       "\n",
       "                                                     url  \n",
       "11360  https://www.ncbi.nlm.nih.gov/pmc/articles/PMC5...  \n",
       "25978  https://www.ncbi.nlm.nih.gov/pmc/articles/PMC2...  \n",
       "29081  https://doi.org/10.1016/b978-0-12-524730-6.500...  \n",
       "18335  https://jvi.asm.org/content/jvi/81/18/9812.ful...  \n",
       "12550  https://www.ncbi.nlm.nih.gov/pmc/articles/PMC6...  \n",
       "2813   https://www.ncbi.nlm.nih.gov/pmc/articles/PMC2...  \n",
       "26862       https://doi.org/10.1016/0042-6822(81)90129-x  \n",
       "33762       https://doi.org/10.1016/j.vetimm.2007.07.015  \n",
       "45718          https://doi.org/10.1016/j.mib.2013.04.006  \n",
       "31931      https://doi.org/10.1016/s0042-6822(02)00081-8  "
      ]
     },
     "execution_count": 3,
     "metadata": {},
     "output_type": "execute_result"
    }
   ],
   "source": [
    "df.sample(10)"
   ]
  },
  {
   "cell_type": "markdown",
   "metadata": {},
   "source": [
    "# info about dataset"
   ]
  },
  {
   "cell_type": "code",
   "execution_count": 4,
   "metadata": {},
   "outputs": [
    {
     "name": "stdout",
     "output_type": "stream",
     "text": [
      "<class 'pandas.core.frame.DataFrame'>\n",
      "RangeIndex: 45774 entries, 0 to 45773\n",
      "Data columns (total 17 columns):\n",
      "cord_uid                       45774 non-null object\n",
      "sha                            31753 non-null object\n",
      "source_x                       45774 non-null object\n",
      "title                          45617 non-null object\n",
      "doi                            42440 non-null object\n",
      "pmcid                          26243 non-null object\n",
      "pubmed_id                      34641 non-null float64\n",
      "license                        45774 non-null object\n",
      "abstract                       37913 non-null object\n",
      "publish_time                   45765 non-null object\n",
      "authors                        43774 non-null object\n",
      "journal                        41707 non-null object\n",
      "Microsoft Academic Paper ID    964 non-null float64\n",
      "WHO #Covidence                 1768 non-null object\n",
      "has_full_text                  45774 non-null bool\n",
      "full_text_file                 35558 non-null object\n",
      "url                            45472 non-null object\n",
      "dtypes: bool(1), float64(2), object(14)\n",
      "memory usage: 5.6+ MB\n"
     ]
    }
   ],
   "source": [
    "df.info()"
   ]
  },
  {
   "cell_type": "code",
   "execution_count": 5,
   "metadata": {},
   "outputs": [
    {
     "data": {
      "text/html": [
       "<div>\n",
       "<style scoped>\n",
       "    .dataframe tbody tr th:only-of-type {\n",
       "        vertical-align: middle;\n",
       "    }\n",
       "\n",
       "    .dataframe tbody tr th {\n",
       "        vertical-align: top;\n",
       "    }\n",
       "\n",
       "    .dataframe thead th {\n",
       "        text-align: right;\n",
       "    }\n",
       "</style>\n",
       "<table border=\"1\" class=\"dataframe\">\n",
       "  <thead>\n",
       "    <tr style=\"text-align: right;\">\n",
       "      <th></th>\n",
       "      <th>cord_uid</th>\n",
       "      <th>sha</th>\n",
       "      <th>source_x</th>\n",
       "      <th>title</th>\n",
       "      <th>doi</th>\n",
       "      <th>pmcid</th>\n",
       "      <th>pubmed_id</th>\n",
       "      <th>license</th>\n",
       "      <th>abstract</th>\n",
       "      <th>publish_time</th>\n",
       "      <th>authors</th>\n",
       "      <th>journal</th>\n",
       "      <th>Microsoft Academic Paper ID</th>\n",
       "      <th>WHO #Covidence</th>\n",
       "      <th>has_full_text</th>\n",
       "      <th>full_text_file</th>\n",
       "      <th>url</th>\n",
       "    </tr>\n",
       "  </thead>\n",
       "  <tbody>\n",
       "    <tr>\n",
       "      <td>36249</td>\n",
       "      <td>zzys31e9</td>\n",
       "      <td>737b7ac2d2c39661379d73a47bdbf3d4d75eadf8</td>\n",
       "      <td>Elsevier</td>\n",
       "      <td>The Canarypox-virus vaccine vector ALVAC trigg...</td>\n",
       "      <td>10.1016/j.vaccine.2006.12.048</td>\n",
       "      <td>NaN</td>\n",
       "      <td>17234309.0</td>\n",
       "      <td>els-covid</td>\n",
       "      <td>Abstract We investigated the mechanism by whic...</td>\n",
       "      <td>2007-04-30</td>\n",
       "      <td>Ryan, Elizabeth J.; Harenberg, Anke; Burdin, N...</td>\n",
       "      <td>Vaccine</td>\n",
       "      <td>NaN</td>\n",
       "      <td>NaN</td>\n",
       "      <td>True</td>\n",
       "      <td>custom_license</td>\n",
       "      <td>https://doi.org/10.1016/j.vaccine.2006.12.048</td>\n",
       "    </tr>\n",
       "  </tbody>\n",
       "</table>\n",
       "</div>"
      ],
      "text/plain": [
       "       cord_uid                                       sha  source_x  \\\n",
       "36249  zzys31e9  737b7ac2d2c39661379d73a47bdbf3d4d75eadf8  Elsevier   \n",
       "\n",
       "                                                   title  \\\n",
       "36249  The Canarypox-virus vaccine vector ALVAC trigg...   \n",
       "\n",
       "                                 doi pmcid   pubmed_id    license  \\\n",
       "36249  10.1016/j.vaccine.2006.12.048   NaN  17234309.0  els-covid   \n",
       "\n",
       "                                                abstract publish_time  \\\n",
       "36249  Abstract We investigated the mechanism by whic...   2007-04-30   \n",
       "\n",
       "                                                 authors  journal  \\\n",
       "36249  Ryan, Elizabeth J.; Harenberg, Anke; Burdin, N...  Vaccine   \n",
       "\n",
       "       Microsoft Academic Paper ID WHO #Covidence  has_full_text  \\\n",
       "36249                          NaN            NaN           True   \n",
       "\n",
       "       full_text_file                                            url  \n",
       "36249  custom_license  https://doi.org/10.1016/j.vaccine.2006.12.048  "
      ]
     },
     "execution_count": 5,
     "metadata": {},
     "output_type": "execute_result"
    }
   ],
   "source": [
    "df[df['cord_uid'] == 'zzys31e9']"
   ]
  },
  {
   "cell_type": "code",
   "execution_count": 6,
   "metadata": {},
   "outputs": [
    {
     "name": "stdout",
     "output_type": "stream",
     "text": [
      "<class 'pandas.core.frame.DataFrame'>\n",
      "RangeIndex: 45774 entries, 0 to 45773\n",
      "Data columns (total 17 columns):\n",
      "cord_uid                       45774 non-null object\n",
      "sha                            31753 non-null object\n",
      "source_x                       45774 non-null object\n",
      "title                          45617 non-null object\n",
      "doi                            42440 non-null object\n",
      "pmcid                          26243 non-null object\n",
      "pubmed_id                      34641 non-null float64\n",
      "license                        45774 non-null object\n",
      "abstract                       37913 non-null object\n",
      "publish_time                   45765 non-null object\n",
      "authors                        43774 non-null object\n",
      "journal                        41707 non-null object\n",
      "Microsoft Academic Paper ID    964 non-null float64\n",
      "WHO #Covidence                 1768 non-null object\n",
      "has_full_text                  45774 non-null bool\n",
      "full_text_file                 35558 non-null object\n",
      "url                            45472 non-null object\n",
      "dtypes: bool(1), float64(2), object(14)\n",
      "memory usage: 5.6+ MB\n"
     ]
    }
   ],
   "source": [
    "df.info()"
   ]
  },
  {
   "cell_type": "markdown",
   "metadata": {},
   "source": [
    "# Length Unique Title and Abstract"
   ]
  },
  {
   "cell_type": "code",
   "execution_count": 7,
   "metadata": {},
   "outputs": [
    {
     "name": "stdout",
     "output_type": "stream",
     "text": [
      "Title ::: Total len 45774 and unique title 44995\n",
      "Abstract::: Total len 45774 and unique title 37532\n"
     ]
    }
   ],
   "source": [
    " len(df['abstract'].unique())\n",
    "print(f'Title ::: Total len 45774 and unique title {len(df[\"title\"].unique())}')\n",
    "print(f'Abstract::: Total len 45774 and unique title {len(df[\"abstract\"].unique())}')      "
   ]
  },
  {
   "cell_type": "markdown",
   "metadata": {},
   "source": [
    "# Null value count in dataset"
   ]
  },
  {
   "cell_type": "code",
   "execution_count": 8,
   "metadata": {},
   "outputs": [
    {
     "data": {
      "text/plain": [
       "cord_uid                           0\n",
       "sha                            14021\n",
       "source_x                           0\n",
       "title                            157\n",
       "doi                             3334\n",
       "pmcid                          19531\n",
       "pubmed_id                      11133\n",
       "license                            0\n",
       "abstract                        7861\n",
       "publish_time                       9\n",
       "authors                         2000\n",
       "journal                         4067\n",
       "Microsoft Academic Paper ID    44810\n",
       "WHO #Covidence                 44006\n",
       "has_full_text                      0\n",
       "full_text_file                 10216\n",
       "url                              302\n",
       "dtype: int64"
      ]
     },
     "execution_count": 8,
     "metadata": {},
     "output_type": "execute_result"
    }
   ],
   "source": [
    "df.isnull().sum()"
   ]
  },
  {
   "cell_type": "code",
   "execution_count": 9,
   "metadata": {},
   "outputs": [
    {
     "data": {
      "text/plain": [
       "<matplotlib.axes._subplots.AxesSubplot at 0x24554f8ed48>"
      ]
     },
     "execution_count": 9,
     "metadata": {},
     "output_type": "execute_result"
    },
    {
     "data": {
      "image/png": "[encoded data removed]",
      "text/plain": [
       "<Figure size 432x288 with 1 Axes>"
      ]
     },
     "metadata": {
      "needs_background": "light"
     },
     "output_type": "display_data"
    }
   ],
   "source": [
    "sns.heatmap(df.isnull(),yticklabels=False , cbar=False)"
   ]
  },
  {
   "cell_type": "markdown",
   "metadata": {},
   "source": [
    "# paper published paltform name "
   ]
  },
  {
   "cell_type": "code",
   "execution_count": 10,
   "metadata": {},
   "outputs": [
    {
     "data": {
      "text/html": [
       "<div>\n",
       "<style scoped>\n",
       "    .dataframe tbody tr th:only-of-type {\n",
       "        vertical-align: middle;\n",
       "    }\n",
       "\n",
       "    .dataframe tbody tr th {\n",
       "        vertical-align: top;\n",
       "    }\n",
       "\n",
       "    .dataframe thead th {\n",
       "        text-align: right;\n",
       "    }\n",
       "</style>\n",
       "<table border=\"1\" class=\"dataframe\">\n",
       "  <thead>\n",
       "    <tr style=\"text-align: right;\">\n",
       "      <th></th>\n",
       "      <th>Website name</th>\n",
       "    </tr>\n",
       "  </thead>\n",
       "  <tbody>\n",
       "    <tr>\n",
       "      <td>0</td>\n",
       "      <td>biorxiv</td>\n",
       "    </tr>\n",
       "    <tr>\n",
       "      <td>1</td>\n",
       "      <td>medrxiv</td>\n",
       "    </tr>\n",
       "    <tr>\n",
       "      <td>2</td>\n",
       "      <td>CZI</td>\n",
       "    </tr>\n",
       "    <tr>\n",
       "      <td>3</td>\n",
       "      <td>WHO</td>\n",
       "    </tr>\n",
       "    <tr>\n",
       "      <td>4</td>\n",
       "      <td>PMC</td>\n",
       "    </tr>\n",
       "    <tr>\n",
       "      <td>5</td>\n",
       "      <td>Elsevier</td>\n",
       "    </tr>\n",
       "  </tbody>\n",
       "</table>\n",
       "</div>"
      ],
      "text/plain": [
       "  Website name\n",
       "0      biorxiv\n",
       "1      medrxiv\n",
       "2          CZI\n",
       "3          WHO\n",
       "4          PMC\n",
       "5     Elsevier"
      ]
     },
     "execution_count": 10,
     "metadata": {},
     "output_type": "execute_result"
    }
   ],
   "source": [
    "df1 = df['source_x'].unique()\n",
    "df1 = pd.DataFrame(df1,columns=['Website name'])\n",
    "df1"
   ]
  },
  {
   "cell_type": "code",
   "execution_count": 11,
   "metadata": {},
   "outputs": [
    {
     "data": {
      "text/html": [
       "<div>\n",
       "<style scoped>\n",
       "    .dataframe tbody tr th:only-of-type {\n",
       "        vertical-align: middle;\n",
       "    }\n",
       "\n",
       "    .dataframe tbody tr th {\n",
       "        vertical-align: top;\n",
       "    }\n",
       "\n",
       "    .dataframe thead th {\n",
       "        text-align: right;\n",
       "    }\n",
       "</style>\n",
       "<table border=\"1\" class=\"dataframe\">\n",
       "  <thead>\n",
       "    <tr style=\"text-align: right;\">\n",
       "      <th></th>\n",
       "      <th>journal</th>\n",
       "    </tr>\n",
       "  </thead>\n",
       "  <tbody>\n",
       "    <tr>\n",
       "      <td>0</td>\n",
       "      <td>NaN</td>\n",
       "    </tr>\n",
       "    <tr>\n",
       "      <td>1</td>\n",
       "      <td>Chin Med J (Engl)</td>\n",
       "    </tr>\n",
       "    <tr>\n",
       "      <td>2</td>\n",
       "      <td>J Clin Med</td>\n",
       "    </tr>\n",
       "    <tr>\n",
       "      <td>3</td>\n",
       "      <td>Journal of Epidemiology and Global Health</td>\n",
       "    </tr>\n",
       "    <tr>\n",
       "      <td>4</td>\n",
       "      <td>Viruses</td>\n",
       "    </tr>\n",
       "    <tr>\n",
       "      <td>...</td>\n",
       "      <td>...</td>\n",
       "    </tr>\n",
       "    <tr>\n",
       "      <td>4881</td>\n",
       "      <td>Infectious Disease Reports</td>\n",
       "    </tr>\n",
       "    <tr>\n",
       "      <td>4882</td>\n",
       "      <td>Biotechnol Rep (Amst)</td>\n",
       "    </tr>\n",
       "    <tr>\n",
       "      <td>4883</td>\n",
       "      <td>Medical Image Analysis</td>\n",
       "    </tr>\n",
       "    <tr>\n",
       "      <td>4884</td>\n",
       "      <td>Pediatric Reports. 2020;12(1)</td>\n",
       "    </tr>\n",
       "    <tr>\n",
       "      <td>4885</td>\n",
       "      <td>Current Opinion in Chemical Engineering</td>\n",
       "    </tr>\n",
       "  </tbody>\n",
       "</table>\n",
       "<p>4886 rows × 1 columns</p>\n",
       "</div>"
      ],
      "text/plain": [
       "                                        journal\n",
       "0                                           NaN\n",
       "1                             Chin Med J (Engl)\n",
       "2                                    J Clin Med\n",
       "3     Journal of Epidemiology and Global Health\n",
       "4                                       Viruses\n",
       "...                                         ...\n",
       "4881                 Infectious Disease Reports\n",
       "4882                      Biotechnol Rep (Amst)\n",
       "4883                     Medical Image Analysis\n",
       "4884              Pediatric Reports. 2020;12(1)\n",
       "4885    Current Opinion in Chemical Engineering\n",
       "\n",
       "[4886 rows x 1 columns]"
      ]
     },
     "execution_count": 11,
     "metadata": {},
     "output_type": "execute_result"
    }
   ],
   "source": [
    "df2 = df['journal'].unique()\n",
    "df2 = pd.DataFrame(df2,columns=['journal'])\n",
    "df2"
   ]
  },
  {
   "cell_type": "code",
   "execution_count": 26,
   "metadata": {},
   "outputs": [
    {
     "data": {
      "text/plain": [
       "(4886, 45774)"
      ]
     },
     "execution_count": 26,
     "metadata": {},
     "output_type": "execute_result"
    }
   ],
   "source": [
    "len(df['journal'].unique()) , len(df['journal'])"
   ]
  },
  {
   "cell_type": "code",
   "execution_count": 37,
   "metadata": {},
   "outputs": [
    {
     "ename": "ValueError",
     "evalue": "not enough values to unpack (expected 3, got 1)",
     "output_type": "error",
     "traceback": [
      "\u001b[1;31m---------------------------------------------------------------------------\u001b[0m",
      "\u001b[1;31mValueError\u001b[0m                                Traceback (most recent call last)",
      "\u001b[1;32m<ipython-input-37-3f92f2c25443>\u001b[0m in \u001b[0;36m<module>\u001b[1;34m\u001b[0m\n\u001b[0;32m      1\u001b[0m \u001b[1;32mfor\u001b[0m \u001b[0mi\u001b[0m \u001b[1;32min\u001b[0m \u001b[0mdf\u001b[0m\u001b[1;33m[\u001b[0m\u001b[1;34m'publish_time'\u001b[0m\u001b[1;33m]\u001b[0m\u001b[1;33m:\u001b[0m\u001b[1;33m\u001b[0m\u001b[1;33m\u001b[0m\u001b[0m\n\u001b[0;32m      2\u001b[0m     \u001b[0mdata\u001b[0m \u001b[1;33m=\u001b[0m \u001b[0mi\u001b[0m\u001b[1;33m.\u001b[0m\u001b[0msplit\u001b[0m\u001b[1;33m(\u001b[0m\u001b[1;34m'-'\u001b[0m\u001b[1;33m)\u001b[0m\u001b[1;33m\u001b[0m\u001b[1;33m\u001b[0m\u001b[0m\n\u001b[1;32m----> 3\u001b[1;33m     \u001b[0myear\u001b[0m\u001b[1;33m,\u001b[0m \u001b[0mmonth\u001b[0m\u001b[1;33m,\u001b[0m\u001b[0mday\u001b[0m \u001b[1;33m=\u001b[0m \u001b[0mdata\u001b[0m\u001b[1;33m\u001b[0m\u001b[1;33m\u001b[0m\u001b[0m\n\u001b[0m\u001b[0;32m      4\u001b[0m     \u001b[0mdf\u001b[0m\u001b[1;33m[\u001b[0m\u001b[1;34m'year'\u001b[0m\u001b[1;33m]\u001b[0m \u001b[1;33m=\u001b[0m \u001b[0myear\u001b[0m\u001b[1;33m\u001b[0m\u001b[1;33m\u001b[0m\u001b[0m\n\u001b[0;32m      5\u001b[0m     \u001b[0mdf\u001b[0m\u001b[1;33m[\u001b[0m\u001b[1;34m'month'\u001b[0m\u001b[1;33m]\u001b[0m \u001b[1;33m=\u001b[0m \u001b[0mmonth\u001b[0m\u001b[1;33m\u001b[0m\u001b[1;33m\u001b[0m\u001b[0m\n",
      "\u001b[1;31mValueError\u001b[0m: not enough values to unpack (expected 3, got 1)"
     ]
    }
   ],
   "source": [
    "for i in df['publish_time']:\n",
    "    data = i.split('-')\n",
    "    year, month,day = data\n",
    "    df['year'] = year\n",
    "    df['month'] = month\n",
    "   # print(year , month ,day)\n",
    "    df['day'] = day\n",
    " \n"
   ]
  },
  {
   "cell_type": "code",
   "execution_count": 39,
   "metadata": {},
   "outputs": [
    {
     "name": "stdout",
     "output_type": "stream",
     "text": [
      "<class 'pandas.core.frame.DataFrame'>\n",
      "RangeIndex: 45774 entries, 0 to 45773\n",
      "Data columns (total 20 columns):\n",
      "cord_uid                       45774 non-null object\n",
      "sha                            31753 non-null object\n",
      "source_x                       45774 non-null object\n",
      "title                          45617 non-null object\n",
      "doi                            42440 non-null object\n",
      "pmcid                          26243 non-null object\n",
      "pubmed_id                      34641 non-null float64\n",
      "license                        45774 non-null object\n",
      "abstract                       37913 non-null object\n",
      "publish_time                   45765 non-null object\n",
      "authors                        43774 non-null object\n",
      "journal                        41707 non-null object\n",
      "Microsoft Academic Paper ID    964 non-null float64\n",
      "WHO #Covidence                 1768 non-null object\n",
      "has_full_text                  45774 non-null bool\n",
      "full_text_file                 35558 non-null object\n",
      "url                            45472 non-null object\n",
      "year                           45774 non-null object\n",
      "month                          45774 non-null object\n",
      "day                            45774 non-null object\n",
      "dtypes: bool(1), float64(2), object(17)\n",
      "memory usage: 6.7+ MB\n"
     ]
    }
   ],
   "source": [
    "df.info()"
   ]
  },
  {
   "cell_type": "code",
   "execution_count": 43,
   "metadata": {},
   "outputs": [],
   "source": [
    "def unique_row(df):\n",
    "    for i in df['title']:\n",
    "        for j in df['title'].unique():\n",
    "            if j == i:\n",
    "                return df[['cord_uid','source_x','title','abstract', 'year','month','day','license', 'journal','authors','url']]\n",
    "    \n",
    "\n",
    "\n",
    "df3 = unique_row(df)\n",
    "            \n"
   ]
  },
  {
   "cell_type": "code",
   "execution_count": 44,
   "metadata": {},
   "outputs": [
    {
     "data": {
      "text/plain": [
       "<matplotlib.axes._subplots.AxesSubplot at 0x245634d4d48>"
      ]
     },
     "execution_count": 44,
     "metadata": {},
     "output_type": "execute_result"
    },
    {
     "data": {
      "image/png": "[encoded data removed]",
      "text/plain": [
       "<Figure size 432x288 with 1 Axes>"
      ]
     },
     "metadata": {
      "needs_background": "light"
     },
     "output_type": "display_data"
    }
   ],
   "source": [
    "sns.heatmap(df3.isnull(),yticklabels=False , cbar=False)"
   ]
  },
  {
   "cell_type": "code",
   "execution_count": null,
   "metadata": {},
   "outputs": [],
   "source": []
  },
  {
   "cell_type": "code",
   "execution_count": null,
   "metadata": {},
   "outputs": [],
   "source": []
  },
  {
   "cell_type": "code",
   "execution_count": 45,
   "metadata": {},
   "outputs": [],
   "source": [
    "df3.to_csv('filterData.csv')"
   ]
  },
  {
   "cell_type": "code",
   "execution_count": 19,
   "metadata": {},
   "outputs": [
    {
     "data": {
      "text/plain": [
       "Index(['cord_uid', 'sha', 'source_x', 'title', 'doi', 'pmcid', 'pubmed_id',\n",
       "       'license', 'abstract', 'publish_time', 'authors', 'journal',\n",
       "       'Microsoft Academic Paper ID', 'WHO #Covidence', 'has_full_text',\n",
       "       'full_text_file', 'url'],\n",
       "      dtype='object')"
      ]
     },
     "execution_count": 19,
     "metadata": {},
     "output_type": "execute_result"
    }
   ],
   "source": [
    "df.columns"
   ]
  },
  {
   "cell_type": "code",
   "execution_count": null,
   "metadata": {},
   "outputs": [],
   "source": []
  }
 ],
 "metadata": {
  "kernelspec": {
   "display_name": "Python 3",
   "language": "python",
   "name": "python3"
  },
  "language_info": {
   "codemirror_mode": {
    "name": "ipython",
    "version": 3
   },
   "file_extension": ".py",
   "mimetype": "text/x-python",
   "name": "python",
   "nbconvert_exporter": "python",
   "pygments_lexer": "ipython3",
   "version": "3.7.4"
  }
 },
 "nbformat": 4,
 "nbformat_minor": 2
}
